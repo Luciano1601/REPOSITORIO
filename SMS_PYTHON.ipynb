{
 "cells": [
  {
   "cell_type": "code",
   "execution_count": 7,
   "metadata": {},
   "outputs": [
    {
     "name": "stdout",
     "output_type": "stream",
     "text": [
      "SM158ee75dee864680be821334881a07d4\n"
     ]
    }
   ],
   "source": [
    "from  twilio.rest  import  Client\n",
    "\n",
    "account_sid  =  \"AC7d8c15feb5457be810c0055db33d67e3\" \n",
    "auth_token  =  \"1431cb46e07a3d155c9a4352d1d90ab3\" \n",
    "\n",
    "client = Client(account_sid, auth_token)\n",
    "\n",
    "mensagem = client.messages.create(\n",
    "    to= \"+5511983982204\" ,\n",
    "    from_ = \"+18317775406\" ,\n",
    "    body = \"Teste\" )\n",
    "\n",
    "print(mensagem.sid)\n"
   ]
  }
 ],
 "metadata": {
  "kernelspec": {
   "display_name": "Python 3",
   "language": "python",
   "name": "python3"
  },
  "language_info": {
   "codemirror_mode": {
    "name": "ipython",
    "version": 3
   },
   "file_extension": ".py",
   "mimetype": "text/x-python",
   "name": "python",
   "nbconvert_exporter": "python",
   "pygments_lexer": "ipython3",
   "version": "3.8.5"
  }
 },
 "nbformat": 4,
 "nbformat_minor": 4
}
