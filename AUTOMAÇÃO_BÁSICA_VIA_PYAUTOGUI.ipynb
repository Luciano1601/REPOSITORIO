{
 "cells": [
  {
   "cell_type": "code",
   "execution_count": 6,
   "metadata": {},
   "outputs": [],
   "source": [
    "import pyautogui \n",
    "import time"
   ]
  },
  {
   "cell_type": "markdown",
   "metadata": {},
   "source": [
    "### AUTOMAÇÃO SIMPLES DE TAREFA , NESTE CASO O USO DA MESMA SERVE PARA APLICAÇÕES ONDE NÃO POSSUI INTEGRAÇÃO COM A LINGUAGEM OU OUTRO MEIO ENTÃO A CONFIGURAÇÃO É FEITA COMO SE FOSSE UM USUÁRIO UTILIZANDO"
   ]
  },
  {
   "cell_type": "code",
   "execution_count": null,
   "metadata": {},
   "outputs": [],
   "source": [
    "a = 1\n",
    "pyautogui.keyDown('alt')\n",
    "pyautogui.keyDown('tab')\n",
    "pyautogui.keyUp('alt')\n",
    "pyautogui.keyUp('tab')\n",
    "while a > 0:\n",
    "    pyautogui.PAUSE = 1\n",
    "    pyautogui.press('6') \n",
    "    pyautogui.press('5') \n",
    "    pyautogui.press('4')\n",
    "    pyautogui.press('3')\n",
    "    time.sleep(10) "
   ]
  }
 ],
 "metadata": {
  "kernelspec": {
   "display_name": "Python 3",
   "language": "python",
   "name": "python3"
  },
  "language_info": {
   "codemirror_mode": {
    "name": "ipython",
    "version": 3
   },
   "file_extension": ".py",
   "mimetype": "text/x-python",
   "name": "python",
   "nbconvert_exporter": "python",
   "pygments_lexer": "ipython3",
   "version": "3.8.5"
  }
 },
 "nbformat": 4,
 "nbformat_minor": 4
}
